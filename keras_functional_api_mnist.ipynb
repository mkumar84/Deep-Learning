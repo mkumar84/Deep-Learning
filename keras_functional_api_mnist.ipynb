{
  "nbformat": 4,
  "nbformat_minor": 0,
  "metadata": {
    "kernelspec": {
      "display_name": "Python 3",
      "language": "python",
      "name": "python3"
    },
    "language_info": {
      "codemirror_mode": {
        "name": "ipython",
        "version": 3
      },
      "file_extension": ".py",
      "mimetype": "text/x-python",
      "name": "python",
      "nbconvert_exporter": "python",
      "pygments_lexer": "ipython3",
      "version": "3.7.4"
    },
    "colab": {
      "name": "keras_functional_api_mnist.ipynb",
      "provenance": [],
      "include_colab_link": true
    }
  },
  "cells": [
    {
      "cell_type": "markdown",
      "metadata": {
        "id": "view-in-github",
        "colab_type": "text"
      },
      "source": [
        "<a href=\"https://colab.research.google.com/github/mkumar84/Deep-Learning/blob/master/keras_functional_api_mnist.ipynb\" target=\"_parent\"><img src=\"https://colab.research.google.com/assets/colab-badge.svg\" alt=\"Open In Colab\"/></a>"
      ]
    },
    {
      "cell_type": "code",
      "metadata": {
        "id": "CvjCIZE1hEA-",
        "colab_type": "code",
        "colab": {
          "base_uri": "https://localhost:8080/",
          "height": 277
        },
        "outputId": "a8425426-cba6-4139-f5f6-355cedc3a341"
      },
      "source": [
        "%%time\n",
        "# minimal Kera functional API model for MNIST\n",
        "# adapted from https://www.tensorflow.org/guide/keras/functional\n",
        "\n",
        "#import libraries\n",
        "import numpy as np\n",
        "import tensorflow as tf\n",
        "from tensorflow import keras\n",
        "from tensorflow.keras import layers\n",
        "\n",
        "# define model layers\n",
        "\n",
        "inputs = keras.Input(shape=(784,)) \n",
        "flatten = layers.Flatten(input_shape=(28, 28))\n",
        "flattened = flatten(inputs)\n",
        "dense = layers.Dense(128, activation='relu')(flattened)\n",
        "dropout = layers.Dropout(0.2) (dense)\n",
        "outputs = layers.Dense(10) (dropout) \n",
        "\n",
        "# define model inputs and outputs (taken from layer definition)\n",
        "\n",
        "model = keras.Model(inputs=inputs, outputs=outputs, name='mnist_model')\n",
        "(x_train, y_train), (x_test, y_test) = keras.datasets.mnist.load_data()\n",
        "\n",
        "x_train = x_train.reshape(60000, 784).astype('float32') / 255 \n",
        "x_test = x_test.reshape(10000, 784).astype('float32') / 255\n",
        "\n",
        "# compile model, including specifying the loss function, optimizer, and metrics\n",
        "\n",
        "model.compile(loss=keras.losses.SparseCategoricalCrossentropy(from_logits=True),\n",
        "              optimizer=keras.optimizers.RMSprop(),\n",
        "              metrics=['accuracy']) \n",
        "\n",
        "# train model\n",
        "\n",
        "history = model.fit(x_train, y_train,\n",
        "                    batch_size=64,\n",
        "                    epochs=5,\n",
        "                    validation_split=0.2) \n",
        "\n",
        "# assess model performance\n",
        "\n",
        "test_scores = model.evaluate(x_test, y_test, verbose=2)\n",
        "print('Test loss:', test_scores[0])\n",
        "print('Test accuracy:', test_scores[1])"
      ],
      "execution_count": 2,
      "outputs": [
        {
          "output_type": "stream",
          "text": [
            "Epoch 1/5\n",
            "750/750 [==============================] - 2s 3ms/step - loss: 0.3555 - accuracy: 0.8981 - val_loss: 0.1811 - val_accuracy: 0.9500\n",
            "Epoch 2/5\n",
            "750/750 [==============================] - 2s 3ms/step - loss: 0.1781 - accuracy: 0.9480 - val_loss: 0.1334 - val_accuracy: 0.9617\n",
            "Epoch 3/5\n",
            "750/750 [==============================] - 2s 3ms/step - loss: 0.1353 - accuracy: 0.9604 - val_loss: 0.1144 - val_accuracy: 0.9674\n",
            "Epoch 4/5\n",
            "750/750 [==============================] - 2s 3ms/step - loss: 0.1137 - accuracy: 0.9664 - val_loss: 0.1088 - val_accuracy: 0.9701\n",
            "Epoch 5/5\n",
            "750/750 [==============================] - 2s 3ms/step - loss: 0.0982 - accuracy: 0.9701 - val_loss: 0.1043 - val_accuracy: 0.9718\n",
            "313/313 - 0s - loss: 0.1022 - accuracy: 0.9701\n",
            "Test loss: 0.10219526290893555\n",
            "Test accuracy: 0.9700999855995178\n",
            "CPU times: user 16.6 s, sys: 1.54 s, total: 18.1 s\n",
            "Wall time: 12.9 s\n"
          ],
          "name": "stdout"
        }
      ]
    },
    {
      "cell_type": "code",
      "metadata": {
        "id": "54lJu_DIhEBK",
        "colab_type": "code",
        "colab": {}
      },
      "source": [
        ""
      ],
      "execution_count": null,
      "outputs": []
    }
  ]
}